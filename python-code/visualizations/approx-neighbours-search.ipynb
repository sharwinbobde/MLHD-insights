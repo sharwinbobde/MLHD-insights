{
 "cells": [
  {
   "cell_type": "code",
   "execution_count": 1,
   "metadata": {},
   "outputs": [
    {
     "name": "stdout",
     "output_type": "stream",
     "text": [
      "                      timestamp  curriculum_level  iteration    rows  \\\n",
      "0    2021-04-24 15:47:35.691776                 0          0   50000   \n",
      "1    2021-04-24 15:47:36.010366                 0          1   50000   \n",
      "2    2021-04-24 15:47:36.318117                 0          2   50000   \n",
      "3    2021-04-24 15:47:36.628897                 0          3   50000   \n",
      "4    2021-04-24 15:47:36.932368                 0          4   50000   \n",
      "..                          ...               ...        ...     ...   \n",
      "165  2021-04-24 15:54:34.239595                12         45  605777   \n",
      "166  2021-04-24 15:54:38.047621                12         46  605777   \n",
      "167  2021-04-24 15:54:41.853033                12         47  605777   \n",
      "168  2021-04-24 15:54:45.672907                12         48  605777   \n",
      "169  2021-04-24 15:54:49.486139                12         49  605777   \n",
      "\n",
      "     quality_indicator_mean  quality_indicator_std  \n",
      "0               3523.457160             558.853587  \n",
      "1               3239.188720             557.306877  \n",
      "2               3061.150320             559.863440  \n",
      "3               2936.617280             565.133345  \n",
      "4               2851.626240             569.256898  \n",
      "..                      ...                    ...  \n",
      "165             2557.234053             530.833712  \n",
      "166             2556.491613             530.630430  \n",
      "167             2555.753318             530.449554  \n",
      "168             2555.030491             530.284645  \n",
      "169             2554.321783             530.126156  \n",
      "\n",
      "[170 rows x 6 columns]\n"
     ]
    }
   ],
   "source": [
    "import matplotlib.pyplot as plt\n",
    "import pandas as pd\n",
    "\n",
    "stats = pd.read_csv('/run/media/sharwinbobde/ExtraStorage/neighbour_search/stats/2021-04-24-T15-54-49.csv')\n",
    "print(stats)"
   ]
  },
  {
   "cell_type": "code",
   "execution_count": 20,
   "metadata": {
    "pycharm": {
     "name": "#%%\n"
    }
   },
   "outputs": [
    {
     "data": {
      "image/png": "[encoded data removed]",
      "text/plain": [
       "<Figure size 1050x350 with 1 Axes>"
      ]
     },
     "metadata": {
      "needs_background": "light"
     },
     "output_type": "display_data"
    }
   ],
   "source": [
    "import numpy as np\n",
    "fig = plt.figure(figsize=(15,5), dpi=70)\n",
    "curr_indices = []\n",
    "for curr in stats.curriculum_level.unique():\n",
    "    curr_indices.append(stats.curriculum_level.searchsorted(curr, side='left'))\n",
    "\n",
    "plt.vlines(np.array(curr_indices)-0.5,\n",
    "           ymin=stats.quality_indicator_mean[stats.shape[0]-1] - stats.quality_indicator_std[stats.shape[0]-1],\n",
    "           ymax=stats.quality_indicator_mean[0] + stats.quality_indicator_std[0],\n",
    "           colors='r', linewidth=1,\n",
    "           label='curriculum start')\n",
    "\n",
    "plt.errorbar(x=stats.index, y=stats['quality_indicator_mean'], yerr=stats['quality_indicator_std'],\n",
    "             fmt='o-', elinewidth=1, markersize=3,\n",
    "             label='quality indicator\\nmean with std.')\n",
    "\n",
    "plt.grid(True)\n",
    "plt.ylabel(\"quality indicator value\")\n",
    "plt.xlabel(\"absolute iteration number\")\n",
    "plt.legend()\n",
    "plt.savefig('../images/nearest-neighbour-quality-indicator.svg')"
   ]
  },
  {
   "cell_type": "code",
   "execution_count": 3,
   "metadata": {
    "pycharm": {
     "name": "#%%\n"
    }
   },
   "outputs": [
    {
     "data": {
      "text/html": [
       "<div>\n",
       "<style scoped>\n",
       "    .dataframe tbody tr th:only-of-type {\n",
       "        vertical-align: middle;\n",
       "    }\n",
       "\n",
       "    .dataframe tbody tr th {\n",
       "        vertical-align: top;\n",
       "    }\n",
       "\n",
       "    .dataframe thead th {\n",
       "        text-align: right;\n",
       "    }\n",
       "</style>\n",
       "<table border=\"1\" class=\"dataframe\">\n",
       "  <thead>\n",
       "    <tr style=\"text-align: right;\">\n",
       "      <th></th>\n",
       "      <th>rec_MBID</th>\n",
       "      <th>row_id</th>\n",
       "      <th>neighbours</th>\n",
       "      <th>neighbour_dist</th>\n",
       "    </tr>\n",
       "  </thead>\n",
       "  <tbody>\n",
       "    <tr>\n",
       "      <th>0</th>\n",
       "      <td>8d378d68-285e-4ff3-8bda-31fb1c8537e0</td>\n",
       "      <td>0</td>\n",
       "      <td>[62791, 313409, 196289, 101035, 286931, 17711,...</td>\n",
       "      <td>[258, 259, 278, 286, 286, 287, 289, 290, 291, ...</td>\n",
       "    </tr>\n",
       "    <tr>\n",
       "      <th>1</th>\n",
       "      <td>8ded50f0-8d4f-4ee4-8b8c-adeb815b300c</td>\n",
       "      <td>1</td>\n",
       "      <td>[43597, 41889, 413405, 155961, 17458, 35176, 1...</td>\n",
       "      <td>[172, 185, 187, 189, 191, 194, 197, 198, 198, ...</td>\n",
       "    </tr>\n",
       "    <tr>\n",
       "      <th>2</th>\n",
       "      <td>8d770b20-e4ad-433d-aa28-af6967f4c9f3</td>\n",
       "      <td>2</td>\n",
       "      <td>[251318, 33045, 35502, 122098, 338457, 10338, ...</td>\n",
       "      <td>[316, 330, 335, 336, 336, 340, 341, 341, 342, ...</td>\n",
       "    </tr>\n",
       "    <tr>\n",
       "      <th>3</th>\n",
       "      <td>8dac27be-b9ac-47a1-88c6-8dd808ac48dd</td>\n",
       "      <td>3</td>\n",
       "      <td>[20021, 9713, 141941, 194132, 60622, 185195, 4...</td>\n",
       "      <td>[307, 312, 324, 338, 338, 338, 338, 339, 340, ...</td>\n",
       "    </tr>\n",
       "    <tr>\n",
       "      <th>4</th>\n",
       "      <td>8de6ae93-9a23-468d-b43a-3db1ef18dee7</td>\n",
       "      <td>4</td>\n",
       "      <td>[212627, 1763, 87818, 80125, 94226, 5507, 2586...</td>\n",
       "      <td>[209, 214, 216, 218, 219, 223, 224, 227, 230, ...</td>\n",
       "    </tr>\n",
       "    <tr>\n",
       "      <th>...</th>\n",
       "      <td>...</td>\n",
       "      <td>...</td>\n",
       "      <td>...</td>\n",
       "      <td>...</td>\n",
       "    </tr>\n",
       "    <tr>\n",
       "      <th>605772</th>\n",
       "      <td>ff237426-62ff-4b10-b836-0c9455c9e8a2</td>\n",
       "      <td>605772</td>\n",
       "      <td>[-1, -1, -1, -1, -1, -1, -1, -1, -1, -1, -1, -...</td>\n",
       "      <td>[65535, 65535, 65535, 65535, 65535, 65535, 655...</td>\n",
       "    </tr>\n",
       "    <tr>\n",
       "      <th>605773</th>\n",
       "      <td>ffc6165b-b6eb-4e8c-90c1-1c5d045735ad</td>\n",
       "      <td>605773</td>\n",
       "      <td>[-1, -1, -1, -1, -1, -1, -1, -1, -1, -1, -1, -...</td>\n",
       "      <td>[65535, 65535, 65535, 65535, 65535, 65535, 655...</td>\n",
       "    </tr>\n",
       "    <tr>\n",
       "      <th>605774</th>\n",
       "      <td>ffcd3125-2176-459e-8fa9-eff992408790</td>\n",
       "      <td>605774</td>\n",
       "      <td>[-1, -1, -1, -1, -1, -1, -1, -1, -1, -1, -1, -...</td>\n",
       "      <td>[65535, 65535, 65535, 65535, 65535, 65535, 655...</td>\n",
       "    </tr>\n",
       "    <tr>\n",
       "      <th>605775</th>\n",
       "      <td>ff2a6888-1906-4ecc-bbb1-8f4e64d6af32</td>\n",
       "      <td>605775</td>\n",
       "      <td>[-1, -1, -1, -1, -1, -1, -1, -1, -1, -1, -1, -...</td>\n",
       "      <td>[65535, 65535, 65535, 65535, 65535, 65535, 655...</td>\n",
       "    </tr>\n",
       "    <tr>\n",
       "      <th>605776</th>\n",
       "      <td>ffc23bdf-9839-4fcb-acc3-572de163d092</td>\n",
       "      <td>605776</td>\n",
       "      <td>[-1, -1, -1, -1, -1, -1, -1, -1, -1, -1, -1, -...</td>\n",
       "      <td>[65535, 65535, 65535, 65535, 65535, 65535, 655...</td>\n",
       "    </tr>\n",
       "  </tbody>\n",
       "</table>\n",
       "<p>605777 rows × 4 columns</p>\n",
       "</div>"
      ],
      "text/plain": [
       "                                    rec_MBID  row_id  \\\n",
       "0       8d378d68-285e-4ff3-8bda-31fb1c8537e0       0   \n",
       "1       8ded50f0-8d4f-4ee4-8b8c-adeb815b300c       1   \n",
       "2       8d770b20-e4ad-433d-aa28-af6967f4c9f3       2   \n",
       "3       8dac27be-b9ac-47a1-88c6-8dd808ac48dd       3   \n",
       "4       8de6ae93-9a23-468d-b43a-3db1ef18dee7       4   \n",
       "...                                      ...     ...   \n",
       "605772  ff237426-62ff-4b10-b836-0c9455c9e8a2  605772   \n",
       "605773  ffc6165b-b6eb-4e8c-90c1-1c5d045735ad  605773   \n",
       "605774  ffcd3125-2176-459e-8fa9-eff992408790  605774   \n",
       "605775  ff2a6888-1906-4ecc-bbb1-8f4e64d6af32  605775   \n",
       "605776  ffc23bdf-9839-4fcb-acc3-572de163d092  605776   \n",
       "\n",
       "                                               neighbours  \\\n",
       "0       [62791, 313409, 196289, 101035, 286931, 17711,...   \n",
       "1       [43597, 41889, 413405, 155961, 17458, 35176, 1...   \n",
       "2       [251318, 33045, 35502, 122098, 338457, 10338, ...   \n",
       "3       [20021, 9713, 141941, 194132, 60622, 185195, 4...   \n",
       "4       [212627, 1763, 87818, 80125, 94226, 5507, 2586...   \n",
       "...                                                   ...   \n",
       "605772  [-1, -1, -1, -1, -1, -1, -1, -1, -1, -1, -1, -...   \n",
       "605773  [-1, -1, -1, -1, -1, -1, -1, -1, -1, -1, -1, -...   \n",
       "605774  [-1, -1, -1, -1, -1, -1, -1, -1, -1, -1, -1, -...   \n",
       "605775  [-1, -1, -1, -1, -1, -1, -1, -1, -1, -1, -1, -...   \n",
       "605776  [-1, -1, -1, -1, -1, -1, -1, -1, -1, -1, -1, -...   \n",
       "\n",
       "                                           neighbour_dist  \n",
       "0       [258, 259, 278, 286, 286, 287, 289, 290, 291, ...  \n",
       "1       [172, 185, 187, 189, 191, 194, 197, 198, 198, ...  \n",
       "2       [316, 330, 335, 336, 336, 340, 341, 341, 342, ...  \n",
       "3       [307, 312, 324, 338, 338, 338, 338, 339, 340, ...  \n",
       "4       [209, 214, 216, 218, 219, 223, 224, 227, 230, ...  \n",
       "...                                                   ...  \n",
       "605772  [65535, 65535, 65535, 65535, 65535, 65535, 655...  \n",
       "605773  [65535, 65535, 65535, 65535, 65535, 65535, 655...  \n",
       "605774  [65535, 65535, 65535, 65535, 65535, 65535, 655...  \n",
       "605775  [65535, 65535, 65535, 65535, 65535, 65535, 655...  \n",
       "605776  [65535, 65535, 65535, 65535, 65535, 65535, 655...  \n",
       "\n",
       "[605777 rows x 4 columns]"
      ]
     },
     "execution_count": 3,
     "metadata": {},
     "output_type": "execute_result"
    }
   ],
   "source": [
    "df = pd.read_parquet('/run/media/sharwinbobde/ExtraStorage/neighbour_search/neighbours.parquet')\n",
    "df\n"
   ]
  },
  {
   "cell_type": "code",
   "execution_count": null,
   "metadata": {
    "pycharm": {
     "name": "#%%\n"
    }
   },
   "outputs": [],
   "source": []
  }
 ],
 "metadata": {
  "kernelspec": {
   "display_name": "Python 3",
   "language": "python",
   "name": "python3"
  },
  "language_info": {
   "codemirror_mode": {
    "name": "ipython",
    "version": 3
   },
   "file_extension": ".py",
   "mimetype": "text/x-python",
   "name": "python",
   "nbconvert_exporter": "python",
   "pygments_lexer": "ipython3",
   "version": "3.9.3"
  }
 },
 "nbformat": 4,
 "nbformat_minor": 1
}
