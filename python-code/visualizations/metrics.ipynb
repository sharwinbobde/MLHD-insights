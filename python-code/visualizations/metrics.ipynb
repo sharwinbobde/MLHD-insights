{
 "cells": [
  {
   "cell_type": "code",
   "execution_count": 1,
   "metadata": {
    "collapsed": true
   },
   "outputs": [
    {
     "name": "stdout",
     "output_type": "stream",
     "text": [
      "[<jmetal.core.solution.FloatSolution object at 0x7f96a1d89f40>, <jmetal.core.solution.FloatSolution object at 0x7f96a1ea5eb0>, <jmetal.core.solution.FloatSolution object at 0x7f96a1ea1040>, <jmetal.core.solution.FloatSolution object at 0x7f96a1ea1220>, <jmetal.core.solution.FloatSolution object at 0x7f96a1ea1310>, <jmetal.core.solution.FloatSolution object at 0x7f96a1ea13a0>, <jmetal.core.solution.FloatSolution object at 0x7f96a1ea1460>, <jmetal.core.solution.FloatSolution object at 0x7f96a1ea1580>, <jmetal.core.solution.FloatSolution object at 0x7f96a1ea17f0>, <jmetal.core.solution.FloatSolution object at 0x7f96a1ea5b80>, <jmetal.core.solution.FloatSolution object at 0x7f96a1ea5a00>, <jmetal.core.solution.FloatSolution object at 0x7f96a1ea1940>, <jmetal.core.solution.FloatSolution object at 0x7f96a1ea19a0>, <jmetal.core.solution.FloatSolution object at 0x7f96a1ea10d0>, <jmetal.core.solution.FloatSolution object at 0x7f96a1ea1100>, <jmetal.core.solution.FloatSolution object at 0x7f96a1d86670>, <jmetal.core.solution.FloatSolution object at 0x7f96a1d89be0>, <jmetal.core.solution.FloatSolution object at 0x7f96a1d89cd0>, <jmetal.core.solution.FloatSolution object at 0x7f96a1ea55b0>, <jmetal.core.solution.FloatSolution object at 0x7f96a1ea1280>, <jmetal.core.solution.FloatSolution object at 0x7f96a1ea15e0>, <jmetal.core.solution.FloatSolution object at 0x7f96a1ea1910>, <jmetal.core.solution.FloatSolution object at 0x7f96a1ea5130>, <jmetal.core.solution.FloatSolution object at 0x7f96a1d89820>, <jmetal.core.solution.FloatSolution object at 0x7f96a1ea5d90>, <jmetal.core.solution.FloatSolution object at 0x7f96a1ea5dc0>, <jmetal.core.solution.FloatSolution object at 0x7f96a1ea5190>, <jmetal.core.solution.FloatSolution object at 0x7f96a1d896a0>, <jmetal.core.solution.FloatSolution object at 0x7f96a1d65ca0>, <jmetal.core.solution.FloatSolution object at 0x7f96a1d895b0>, <jmetal.core.solution.FloatSolution object at 0x7f96a1ea16a0>, <jmetal.core.solution.FloatSolution object at 0x7f96a1ea59d0>, <jmetal.core.solution.FloatSolution object at 0x7f96a1d89250>, <jmetal.core.solution.FloatSolution object at 0x7f96a1ea5940>, <jmetal.core.solution.FloatSolution object at 0x7f96a1d899a0>, <jmetal.core.solution.FloatSolution object at 0x7f96a1d894f0>, <jmetal.core.solution.FloatSolution object at 0x7f96a1ea1610>, <jmetal.core.solution.FloatSolution object at 0x7f96a1ea5af0>, <jmetal.core.solution.FloatSolution object at 0x7f96a1ea18b0>, <jmetal.core.solution.FloatSolution object at 0x7f96a1ea5250>, <jmetal.core.solution.FloatSolution object at 0x7f96a1ea18e0>, <jmetal.core.solution.FloatSolution object at 0x7f96a1d65880>, <jmetal.core.solution.FloatSolution object at 0x7f96a1ea0bb0>, <jmetal.core.solution.FloatSolution object at 0x7f96a1ea17c0>, <jmetal.core.solution.FloatSolution object at 0x7f96a1ea5520>, <jmetal.core.solution.FloatSolution object at 0x7f96a1ea1160>, <jmetal.core.solution.FloatSolution object at 0x7f96a1ea53a0>, <jmetal.core.solution.FloatSolution object at 0x7f96a1ea5430>, <jmetal.core.solution.FloatSolution object at 0x7f96a1ea5490>, <jmetal.core.solution.FloatSolution object at 0x7f96a1ea5910>, <jmetal.core.solution.FloatSolution object at 0x7f96a1ea0430>, <jmetal.core.solution.FloatSolution object at 0x7f96a1ea1520>, <jmetal.core.solution.FloatSolution object at 0x7f96a1ea16d0>, <jmetal.core.solution.FloatSolution object at 0x7f96a1ea1790>, <jmetal.core.solution.FloatSolution object at 0x7f96a1ea5100>, <jmetal.core.solution.FloatSolution object at 0x7f96a1d65730>, <jmetal.core.solution.FloatSolution object at 0x7f96a1ea5550>, <jmetal.core.solution.FloatSolution object at 0x7f96a1d652e0>, <jmetal.core.solution.FloatSolution object at 0x7f96a1ea52e0>, <jmetal.core.solution.FloatSolution object at 0x7f96a1e84040>, <jmetal.core.solution.FloatSolution object at 0x7f96a1ea1130>, <jmetal.core.solution.FloatSolution object at 0x7f96a1ea5a30>, <jmetal.core.solution.FloatSolution object at 0x7f96a1ea5640>, <jmetal.core.solution.FloatSolution object at 0x7f96a1ea5a90>, <jmetal.core.solution.FloatSolution object at 0x7f96a1ea50d0>, <jmetal.core.solution.FloatSolution object at 0x7f96a1ea5340>, <jmetal.core.solution.FloatSolution object at 0x7f96a1ea53d0>, <jmetal.core.solution.FloatSolution object at 0x7f96a1ea5d60>, <jmetal.core.solution.FloatSolution object at 0x7f96a1d897f0>, <jmetal.core.solution.FloatSolution object at 0x7f96a1ea14f0>, <jmetal.core.solution.FloatSolution object at 0x7f96a1ea56d0>, <jmetal.core.solution.FloatSolution object at 0x7f96a1ea10a0>, <jmetal.core.solution.FloatSolution object at 0x7f96a1ea1880>, <jmetal.core.solution.FloatSolution object at 0x7f96a1ea1af0>, <jmetal.core.solution.FloatSolution object at 0x7f96a1ea11f0>, <jmetal.core.solution.FloatSolution object at 0x7f96a1d89ca0>, <jmetal.core.solution.FloatSolution object at 0x7f96a1ea5e50>, <jmetal.core.solution.FloatSolution object at 0x7f96a1ea5fd0>, <jmetal.core.solution.FloatSolution object at 0x7f96a1d65190>, <jmetal.core.solution.FloatSolution object at 0x7f96a1ea5f40>, <jmetal.core.solution.FloatSolution object at 0x7f96a1d898e0>, <jmetal.core.solution.FloatSolution object at 0x7f96a1ea1400>, <jmetal.core.solution.FloatSolution object at 0x7f96a1d892b0>, <jmetal.core.solution.FloatSolution object at 0x7f96a1ea5070>, <jmetal.core.solution.FloatSolution object at 0x7f96a1ea52b0>, <jmetal.core.solution.FloatSolution object at 0x7f96a1ea5670>, <jmetal.core.solution.FloatSolution object at 0x7f96a1e9cbe0>, <jmetal.core.solution.FloatSolution object at 0x7f96a1ea5cd0>, <jmetal.core.solution.FloatSolution object at 0x7f96a1d65340>, <jmetal.core.solution.FloatSolution object at 0x7f96a1d890a0>, <jmetal.core.solution.FloatSolution object at 0x7f96a1d89a00>, <jmetal.core.solution.FloatSolution object at 0x7f96a1ea1850>, <jmetal.core.solution.FloatSolution object at 0x7f96a1d89940>, <jmetal.core.solution.FloatSolution object at 0x7f96a1d65670>, <jmetal.core.solution.FloatSolution object at 0x7f96a1ea54c0>, <jmetal.core.solution.FloatSolution object at 0x7f96a1ea1550>, <jmetal.core.solution.FloatSolution object at 0x7f96a1d89b80>, <jmetal.core.solution.FloatSolution object at 0x7f96a1ea5ee0>, <jmetal.core.solution.FloatSolution object at 0x7f96a1ea5f70>, <jmetal.core.solution.FloatSolution object at 0x7f96a1d65100>]\n"
     ]
    }
   ],
   "source": [
    "from jmetal.algorithm.multiobjective import NSGAII\n",
    "from jmetal.operator import SBXCrossover, PolynomialMutation\n",
    "from jmetal.problem import ZDT1\n",
    "from jmetal.util.evaluator import SparkEvaluator\n",
    "from jmetal.util.termination_criterion import StoppingByEvaluations\n",
    "from jmetal.lab.visualization import Plot, InteractivePlot\n",
    "\n",
    "problem = ZDT1()\n",
    "\n",
    "algorithm = NSGAII(\n",
    "    problem=problem,\n",
    "    population_size=100,\n",
    "    offspring_population_size=100,\n",
    "    mutation=PolynomialMutation(probability=1.0 / problem.number_of_variables, distribution_index=20),\n",
    "    crossover=SBXCrossover(probability=1.0, distribution_index=20),\n",
    "    population_evaluator=SparkEvaluator(),\n",
    "    termination_criterion=StoppingByEvaluations(max_evaluations=1000)\n",
    ")\n",
    "\n",
    "algorithm.run()\n",
    "front = algorithm.get_result()\n",
    "print(front)\n",
    "plot_front = InteractivePlot(title='Pareto front approximation', axis_labels=['x', 'y'])\n",
    "plot_front.plot(front, label='NSGAII-ZDT1', filename='../images/NSGAII-ZDT1')"
   ]
  }
 ],
 "metadata": {
  "kernelspec": {
   "display_name": "Python 3",
   "language": "python",
   "name": "python3"
  },
  "language_info": {
   "codemirror_mode": {
    "name": "ipython",
    "version": 2
   },
   "file_extension": ".py",
   "mimetype": "text/x-python",
   "name": "python",
   "nbconvert_exporter": "python",
   "pygments_lexer": "ipython2",
   "version": "2.7.6"
  }
 },
 "nbformat": 4,
 "nbformat_minor": 0
}