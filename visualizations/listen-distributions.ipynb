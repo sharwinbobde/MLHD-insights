{
 "metadata": {
  "language_info": {
   "codemirror_mode": {
    "name": "ipython",
    "version": 3
   },
   "file_extension": ".py",
   "mimetype": "text/x-python",
   "name": "python",
   "nbconvert_exporter": "python",
   "pygments_lexer": "ipython3",
   "version": "3.6.12-final"
  },
  "orig_nbformat": 2,
  "kernelspec": {
   "name": "python3",
   "display_name": "Python 3",
   "language": "python"
  }
 },
 "nbformat": 4,
 "nbformat_minor": 2,
 "cells": [
  {
   "cell_type": "code",
   "execution_count": 1,
   "metadata": {},
   "outputs": [],
   "source": [
    "import pandas as pd\n",
    "from glob import glob\n",
    "import matplotlib.pyplot as plt\n",
    "import matplotlib.cm as cm\n",
    "years = []\n",
    "for i in range(2006,2019):\n",
    "    years.append(str(i))"
   ]
  },
  {
   "cell_type": "code",
   "execution_count": 2,
   "metadata": {},
   "outputs": [],
   "source": [
    "lower_listen_limit = 30\n",
    "upper_listen_limit = 256"
   ]
  },
  {
   "cell_type": "code",
   "execution_count": 3,
   "metadata": {},
   "outputs": [
    {
     "output_type": "stream",
     "name": "stdout",
     "text": [
      "done\n"
     ]
    }
   ],
   "source": [
    "for year in years:\n",
    "    for f in glob(\"out_data/yr_\" + year + \".csv/part-*.csv\"):\n",
    "        df = pd.read_csv(f)\n",
    "        #  drop 0 listens\n",
    "        df = df[df.listens > 0] \n",
    "\n",
    "        fig = plt.figure(figsize=(16,10))\n",
    "        fig.suptitle(\"User-Recording listening frequency (year \"+year+\")\", fontsize=24)\n",
    "        plt.grid(True, which=\"both\", ls=\"-\")\n",
    "        plt.scatter(df[\"listens\"], df[\"count\"], marker='x', c=df[\"count\"],  cmap=cm.rainbow, label = \"count\")\n",
    "        plt.axvline(x=lower_listen_limit, c='deeppink', linestyle='-.', label=\"listens = \" + str(lower_listen_limit))\n",
    "        plt.axvline(x=upper_listen_limit, c='peru', linestyle='-.', label=\"listens = \" + str(upper_listen_limit))\n",
    "        plt.xlabel(\"Number of listens (log-scale)\", fontsize=16)\n",
    "        plt.ylabel(\"Frequency of occurance (log-scale)\", fontsize=14)\n",
    "        plt.xscale('log')\n",
    "        plt.yscale('log')\n",
    "        plt.colorbar()\n",
    "        plt.legend()\n",
    "        plt.savefig('images/'+year+\"_all_listens_frequency_log_log.svg\")\n",
    "        plt.close(fig)\n",
    "print('done')"
   ]
  },
  {
   "cell_type": "code",
   "execution_count": 4,
   "metadata": {},
   "outputs": [
    {
     "output_type": "stream",
     "name": "stdout",
     "text": [
      "done\n"
     ]
    }
   ],
   "source": [
    "for year in years:\n",
    "    for f in glob(\"out_data/yr_\" + year + \".csv/part-*.csv\"):\n",
    "        df = pd.read_csv(f)\n",
    "        #  drop 0 listens\n",
    "        df = df[df.listens >= lower_listen_limit ] \n",
    "\n",
    "        fig = plt.figure(figsize=(16,10))\n",
    "        fig.suptitle(\"User-Recording listening frequency (year \"+year+\")\", fontsize=24)\n",
    "        plt.grid(True, which=\"both\", ls=\"-\")\n",
    "        plt.scatter(df[\"listens\"], df[\"count\"], marker='x', c=df[\"count\"],  cmap=cm.rainbow, label = \"count\")\n",
    "        plt.axvline(x=lower_listen_limit, c='deeppink', linestyle='-.', label=\"listens = \" + str(lower_listen_limit))\n",
    "        plt.axvline(x=upper_listen_limit, c='peru', linestyle='-.', label=\"listens = \" + str(upper_listen_limit))\n",
    "        plt.xlabel(\"Number of listens (log-scale)\", fontsize=16)\n",
    "        plt.ylabel(\"Frequency of occurance (log-scale)\", fontsize=16)\n",
    "        plt.xscale('log')\n",
    "        plt.yscale('log')\n",
    "        plt.colorbar()\n",
    "        plt.legend()\n",
    "        plt.savefig('images/'+year+\"_above_\"+str(lower_listen_limit)+\"_listens_frequency_log_log.svg\")\n",
    "        plt.close(fig)\n",
    "\n",
    "print('done')"
   ]
  },
  {
   "cell_type": "code",
   "execution_count": 9,
   "metadata": {},
   "outputs": [
    {
     "output_type": "stream",
     "name": "stdout",
     "text": [
      "done\n"
     ]
    }
   ],
   "source": [
    "import matplotlib\n",
    "import matplotlib.cm as cm\n",
    "import numpy as np\n",
    "norm = matplotlib.colors.Normalize(vmin=0, vmax=1)\n",
    "import seaborn as sns\n",
    "\n",
    "\n",
    "for year in years:\n",
    "    for f in glob(\"out_data/yr_\" + year + \"_next_yr_percentiles.csv/part-*.csv\"):\n",
    "        df = pd.read_csv(f)\n",
    "        #  drop edge cases that addect graph scaling\n",
    "        # valid_mean = df['next_yr_mean'] != 0\n",
    "        valid_count = df[\"yr_\" + year] > 0\n",
    "        # valid_std = df['next_yr_std'] != 0\n",
    "        df = df[valid_count]\n",
    "\n",
    "        fig = plt.figure(figsize=(16,10))\n",
    "        fig.suptitle(\"User-Recording listening continuation into next year (year \"+year+\" to \"+str(int(year)+1)+\")\", fontsize=24)\n",
    "        for level in reversed(range(0,11)):\n",
    "            rgba_color = cm.coolwarm(norm(level/10)) \n",
    "            plt.scatter(df[\"yr_\" + year], df[\"percentile_\" + str(level)], facecolors='none',\n",
    "                        label = str(level*10) +\"th percentile\",\n",
    "                        alpha=0.7,\n",
    "                        # c=np.repeat(level*10, df.shape[0]),\n",
    "                        # cmap=cm.viridis, rf,\n",
    "                        color=rgba_color)\n",
    "\n",
    "        plt.grid(True, which=\"both\", ls=\"-\")\n",
    "        plt.xscale('symlog')\n",
    "        plt.yscale('symlog')\n",
    "        plt.axvline(x=lower_listen_limit, c='deeppink', linestyle='-.', label=\"listens = \" + str(lower_listen_limit))\n",
    "        plt.axvline(x=upper_listen_limit, c='peru', linestyle='-.', label=\"listens = \" + str(upper_listen_limit))\n",
    "        plt.xlabel(\"Number of listens in \"+year+\" (log-scale)\", fontsize=16)\n",
    "        plt.ylabel(\"Number of listens in \"+str(int(year)+1)+\" (log-scale)\", fontsize=16)\n",
    "        # plt.xlim((-0.1,1e3))\n",
    "        # plt.ylim((-0.1,10e2))\n",
    "        plt.legend()\n",
    "        plt.savefig('images/'+year+\"_next_year_percentiles_log_log.svg\")\n",
    "        plt.close(fig)\n",
    "\n",
    "print('done')"
   ]
  },
  {
   "cell_type": "code",
   "execution_count": null,
   "metadata": {},
   "outputs": [],
   "source": []
  }
 ]
}